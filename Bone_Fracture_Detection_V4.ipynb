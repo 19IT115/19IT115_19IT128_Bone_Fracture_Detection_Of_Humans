{
  "cells": [
    {
      "cell_type": "code",
      "execution_count": 1,
      "metadata": {
        "colab": {
          "base_uri": "https://localhost:8080/"
        },
        "id": "IWEb9fsy0i5a",
        "outputId": "d164d02e-4fcc-4cfc-b46f-81d2bac25cc9"
      },
      "outputs": [
        {
          "output_type": "stream",
          "name": "stdout",
          "text": [
            "Mounted at /content/drive\n"
          ]
        }
      ],
      "source": [
        "#Bone Fracture Detection\n",
        "from google.colab import drive\n",
        "drive.mount('/content/drive')"
      ]
    },
    {
      "cell_type": "code",
      "execution_count": 2,
      "metadata": {
        "colab": {
          "base_uri": "https://localhost:8080/"
        },
        "id": "M5o72aak05Zg",
        "outputId": "6423ff8d-abf5-47fb-f383-613519f50eb2"
      },
      "outputs": [
        {
          "output_type": "stream",
          "name": "stdout",
          "text": [
            "Collecting focal-loss\n",
            "  Downloading focal_loss-0.0.7-py3-none-any.whl (19 kB)\n",
            "Requirement already satisfied: tensorflow>=2.2 in /usr/local/lib/python3.7/dist-packages (from focal-loss) (2.8.0)\n",
            "Requirement already satisfied: keras<2.9,>=2.8.0rc0 in /usr/local/lib/python3.7/dist-packages (from tensorflow>=2.2->focal-loss) (2.8.0)\n",
            "Requirement already satisfied: absl-py>=0.4.0 in /usr/local/lib/python3.7/dist-packages (from tensorflow>=2.2->focal-loss) (1.0.0)\n",
            "Requirement already satisfied: gast>=0.2.1 in /usr/local/lib/python3.7/dist-packages (from tensorflow>=2.2->focal-loss) (0.5.3)\n",
            "Requirement already satisfied: opt-einsum>=2.3.2 in /usr/local/lib/python3.7/dist-packages (from tensorflow>=2.2->focal-loss) (3.3.0)\n",
            "Requirement already satisfied: h5py>=2.9.0 in /usr/local/lib/python3.7/dist-packages (from tensorflow>=2.2->focal-loss) (3.1.0)\n",
            "Requirement already satisfied: astunparse>=1.6.0 in /usr/local/lib/python3.7/dist-packages (from tensorflow>=2.2->focal-loss) (1.6.3)\n",
            "Requirement already satisfied: libclang>=9.0.1 in /usr/local/lib/python3.7/dist-packages (from tensorflow>=2.2->focal-loss) (13.0.0)\n",
            "Requirement already satisfied: wrapt>=1.11.0 in /usr/local/lib/python3.7/dist-packages (from tensorflow>=2.2->focal-loss) (1.14.0)\n",
            "Requirement already satisfied: typing-extensions>=3.6.6 in /usr/local/lib/python3.7/dist-packages (from tensorflow>=2.2->focal-loss) (3.10.0.2)\n",
            "Requirement already satisfied: setuptools in /usr/local/lib/python3.7/dist-packages (from tensorflow>=2.2->focal-loss) (57.4.0)\n",
            "Requirement already satisfied: google-pasta>=0.1.1 in /usr/local/lib/python3.7/dist-packages (from tensorflow>=2.2->focal-loss) (0.2.0)\n",
            "Requirement already satisfied: keras-preprocessing>=1.1.1 in /usr/local/lib/python3.7/dist-packages (from tensorflow>=2.2->focal-loss) (1.1.2)\n",
            "Requirement already satisfied: six>=1.12.0 in /usr/local/lib/python3.7/dist-packages (from tensorflow>=2.2->focal-loss) (1.15.0)\n",
            "Requirement already satisfied: grpcio<2.0,>=1.24.3 in /usr/local/lib/python3.7/dist-packages (from tensorflow>=2.2->focal-loss) (1.44.0)\n",
            "Requirement already satisfied: termcolor>=1.1.0 in /usr/local/lib/python3.7/dist-packages (from tensorflow>=2.2->focal-loss) (1.1.0)\n",
            "Requirement already satisfied: protobuf>=3.9.2 in /usr/local/lib/python3.7/dist-packages (from tensorflow>=2.2->focal-loss) (3.17.3)\n",
            "Requirement already satisfied: flatbuffers>=1.12 in /usr/local/lib/python3.7/dist-packages (from tensorflow>=2.2->focal-loss) (2.0)\n",
            "Requirement already satisfied: tensorboard<2.9,>=2.8 in /usr/local/lib/python3.7/dist-packages (from tensorflow>=2.2->focal-loss) (2.8.0)\n",
            "Requirement already satisfied: tensorflow-io-gcs-filesystem>=0.23.1 in /usr/local/lib/python3.7/dist-packages (from tensorflow>=2.2->focal-loss) (0.24.0)\n",
            "Requirement already satisfied: numpy>=1.20 in /usr/local/lib/python3.7/dist-packages (from tensorflow>=2.2->focal-loss) (1.21.5)\n",
            "Collecting tf-estimator-nightly==2.8.0.dev2021122109\n",
            "  Downloading tf_estimator_nightly-2.8.0.dev2021122109-py2.py3-none-any.whl (462 kB)\n",
            "\u001b[K     |████████████████████████████████| 462 kB 4.9 MB/s \n",
            "\u001b[?25hRequirement already satisfied: wheel<1.0,>=0.23.0 in /usr/local/lib/python3.7/dist-packages (from astunparse>=1.6.0->tensorflow>=2.2->focal-loss) (0.37.1)\n",
            "Requirement already satisfied: cached-property in /usr/local/lib/python3.7/dist-packages (from h5py>=2.9.0->tensorflow>=2.2->focal-loss) (1.5.2)\n",
            "Requirement already satisfied: markdown>=2.6.8 in /usr/local/lib/python3.7/dist-packages (from tensorboard<2.9,>=2.8->tensorflow>=2.2->focal-loss) (3.3.6)\n",
            "Requirement already satisfied: requests<3,>=2.21.0 in /usr/local/lib/python3.7/dist-packages (from tensorboard<2.9,>=2.8->tensorflow>=2.2->focal-loss) (2.23.0)\n",
            "Requirement already satisfied: tensorboard-data-server<0.7.0,>=0.6.0 in /usr/local/lib/python3.7/dist-packages (from tensorboard<2.9,>=2.8->tensorflow>=2.2->focal-loss) (0.6.1)\n",
            "Requirement already satisfied: google-auth<3,>=1.6.3 in /usr/local/lib/python3.7/dist-packages (from tensorboard<2.9,>=2.8->tensorflow>=2.2->focal-loss) (1.35.0)\n",
            "Requirement already satisfied: tensorboard-plugin-wit>=1.6.0 in /usr/local/lib/python3.7/dist-packages (from tensorboard<2.9,>=2.8->tensorflow>=2.2->focal-loss) (1.8.1)\n",
            "Requirement already satisfied: werkzeug>=0.11.15 in /usr/local/lib/python3.7/dist-packages (from tensorboard<2.9,>=2.8->tensorflow>=2.2->focal-loss) (1.0.1)\n",
            "Requirement already satisfied: google-auth-oauthlib<0.5,>=0.4.1 in /usr/local/lib/python3.7/dist-packages (from tensorboard<2.9,>=2.8->tensorflow>=2.2->focal-loss) (0.4.6)\n",
            "Requirement already satisfied: rsa<5,>=3.1.4 in /usr/local/lib/python3.7/dist-packages (from google-auth<3,>=1.6.3->tensorboard<2.9,>=2.8->tensorflow>=2.2->focal-loss) (4.8)\n",
            "Requirement already satisfied: pyasn1-modules>=0.2.1 in /usr/local/lib/python3.7/dist-packages (from google-auth<3,>=1.6.3->tensorboard<2.9,>=2.8->tensorflow>=2.2->focal-loss) (0.2.8)\n",
            "Requirement already satisfied: cachetools<5.0,>=2.0.0 in /usr/local/lib/python3.7/dist-packages (from google-auth<3,>=1.6.3->tensorboard<2.9,>=2.8->tensorflow>=2.2->focal-loss) (4.2.4)\n",
            "Requirement already satisfied: requests-oauthlib>=0.7.0 in /usr/local/lib/python3.7/dist-packages (from google-auth-oauthlib<0.5,>=0.4.1->tensorboard<2.9,>=2.8->tensorflow>=2.2->focal-loss) (1.3.1)\n",
            "Requirement already satisfied: importlib-metadata>=4.4 in /usr/local/lib/python3.7/dist-packages (from markdown>=2.6.8->tensorboard<2.9,>=2.8->tensorflow>=2.2->focal-loss) (4.11.3)\n",
            "Requirement already satisfied: zipp>=0.5 in /usr/local/lib/python3.7/dist-packages (from importlib-metadata>=4.4->markdown>=2.6.8->tensorboard<2.9,>=2.8->tensorflow>=2.2->focal-loss) (3.7.0)\n",
            "Requirement already satisfied: pyasn1<0.5.0,>=0.4.6 in /usr/local/lib/python3.7/dist-packages (from pyasn1-modules>=0.2.1->google-auth<3,>=1.6.3->tensorboard<2.9,>=2.8->tensorflow>=2.2->focal-loss) (0.4.8)\n",
            "Requirement already satisfied: chardet<4,>=3.0.2 in /usr/local/lib/python3.7/dist-packages (from requests<3,>=2.21.0->tensorboard<2.9,>=2.8->tensorflow>=2.2->focal-loss) (3.0.4)\n",
            "Requirement already satisfied: urllib3!=1.25.0,!=1.25.1,<1.26,>=1.21.1 in /usr/local/lib/python3.7/dist-packages (from requests<3,>=2.21.0->tensorboard<2.9,>=2.8->tensorflow>=2.2->focal-loss) (1.24.3)\n",
            "Requirement already satisfied: certifi>=2017.4.17 in /usr/local/lib/python3.7/dist-packages (from requests<3,>=2.21.0->tensorboard<2.9,>=2.8->tensorflow>=2.2->focal-loss) (2021.10.8)\n",
            "Requirement already satisfied: idna<3,>=2.5 in /usr/local/lib/python3.7/dist-packages (from requests<3,>=2.21.0->tensorboard<2.9,>=2.8->tensorflow>=2.2->focal-loss) (2.10)\n",
            "Requirement already satisfied: oauthlib>=3.0.0 in /usr/local/lib/python3.7/dist-packages (from requests-oauthlib>=0.7.0->google-auth-oauthlib<0.5,>=0.4.1->tensorboard<2.9,>=2.8->tensorflow>=2.2->focal-loss) (3.2.0)\n",
            "Installing collected packages: tf-estimator-nightly, focal-loss\n",
            "Successfully installed focal-loss-0.0.7 tf-estimator-nightly-2.8.0.dev2021122109\n",
            "Collecting keras-radam\n",
            "  Downloading keras-radam-0.15.0.tar.gz (11 kB)\n",
            "Requirement already satisfied: numpy in /usr/local/lib/python3.7/dist-packages (from keras-radam) (1.21.5)\n",
            "Requirement already satisfied: Keras in /usr/local/lib/python3.7/dist-packages (from keras-radam) (2.8.0)\n",
            "Building wheels for collected packages: keras-radam\n",
            "  Building wheel for keras-radam (setup.py) ... \u001b[?25l\u001b[?25hdone\n",
            "  Created wheel for keras-radam: filename=keras_radam-0.15.0-py3-none-any.whl size=14686 sha256=3deb1a5b786df410a3ad8ec8b5ac913971bdbff0ea29021b3796f840fb24e1c4\n",
            "  Stored in directory: /root/.cache/pip/wheels/23/6a/5f/d674f3b7b4d504b03148abd675e3703ba00c31763c04a2fc20\n",
            "Successfully built keras-radam\n",
            "Installing collected packages: keras-radam\n",
            "Successfully installed keras-radam-0.15.0\n"
          ]
        }
      ],
      "source": [
        "!pip install focal-loss\n",
        "!pip install keras-radam"
      ]
    },
    {
      "cell_type": "code",
      "execution_count": 3,
      "metadata": {
        "id": "5eL9c8-R09FI"
      },
      "outputs": [],
      "source": [
        "import os\n",
        "import numpy as np\n",
        "import cv2\n",
        "import random\n",
        "import pandas as pd\n",
        "from tqdm import tqdm\n",
        "import keras.backend as K\n",
        "import matplotlib.pyplot as plt\n",
        "import keras\n",
        "import keras.backend as K\n",
        "from keras.models import Model\n",
        "from keras.layers import Input, Dense, Conv2D, Conv3D, DepthwiseConv2D, SeparableConv2D, Conv3DTranspose\n",
        "from keras.layers import Flatten, MaxPool2D, AvgPool2D, GlobalAvgPool2D, UpSampling2D, BatchNormalization\n",
        "from keras.layers import Concatenate, Add, Dropout, ReLU, Lambda, Activation, LeakyReLU, PReLU\n",
        "from keras.callbacks import EarlyStopping, ReduceLROnPlateau, ModelCheckpoint, Callback\n",
        "from keras.preprocessing.image import ImageDataGenerator, load_img#, image\n",
        "from keras import regularizers\n",
        "from IPython.display import SVG\n",
        "from keras.utils.vis_utils import model_to_dot\n",
        "from keras.applications.densenet import DenseNet169, DenseNet121, preprocess_input\n",
        "from time import time\n",
        "\n",
        "\n",
        "from focal_loss import BinaryFocalLoss\n",
        "from keras_radam import RAdam\n",
        "\n",
        "import datetime"
      ]
    },
    {
      "cell_type": "code",
      "execution_count": 4,
      "metadata": {
        "colab": {
          "base_uri": "https://localhost:8080/"
        },
        "id": "Jmdggigk1F_y",
        "outputId": "b84dc769-1e97-415b-d140-80fb1f800209"
      },
      "outputs": [
        {
          "output_type": "stream",
          "name": "stdout",
          "text": [
            "Completed\n"
          ]
        }
      ],
      "source": [
        "from zipfile import ZipFile\n",
        "file_name = \"/content/drive/My Drive/MURA-v1.1.zip\"\n",
        "with ZipFile(file_name,'r') as zip:\n",
        "  zip.extractall()\n",
        "  print(\"Completed\")"
      ]
    },
    {
      "cell_type": "code",
      "execution_count": 5,
      "metadata": {
        "id": "w7Z6w5R11Owv"
      },
      "outputs": [],
      "source": [
        "def listdir_nohidden(path):\n",
        "    '''\n",
        "    Utility function to find the list of files in a directory excluding the hidden files.\n",
        "    Args:\n",
        "        path: contains the path of the directory containing the images\n",
        "\n",
        "    '''\n",
        "    for f in os.listdir(path):\n",
        "        if not f.startswith('.'):\n",
        "            yield f"
      ]
    },
    {
      "cell_type": "code",
      "execution_count": 6,
      "metadata": {
        "id": "x0BR-MNi1Xmh"
      },
      "outputs": [],
      "source": [
        "def create_images_metadata_csv(category,study_types):\n",
        "    '''\n",
        "    This function creates a csv file containing the path of images, label.\n",
        "    Args:\n",
        "        category: train or valid, depending on which csv is needed\n",
        "        study_types: the type of the body part in MURA Dataset, eg:  XR_SHOULDER\n",
        "    '''\n",
        "    image_data = {}\n",
        "    study_label = {'positive': 1, 'negative': 0}\n",
        "    #study_types = ['XR_ELBOW','XR_FINGER','XR_FOREARM','XR_HAND','XR_HUMERUS','XR_SHOULDER','XR_WRIST']\n",
        "    #study_types = ['XR_ELBOW']\n",
        "    i = 0\n",
        "    image_data[category] = pd.DataFrame(columns=['Path','Count', 'Label'])\n",
        "    for study_type in study_types: # Iterate throught every study types\n",
        "        DATA_DIR = 'MURA-v1.1/%s/%s/' % (category, study_type)\n",
        "        patients = list(os.walk(DATA_DIR))[0][1]  # list of patient folder names\n",
        "        for patient in tqdm(patients):  # for each patient folder\n",
        "            for study in os.listdir(DATA_DIR + patient):  # for each study in that patient folder\n",
        "                if(study != '.DS_Store'):\n",
        "                    label = study_label[study.split('_')[1]]  # get label 0 or 1\n",
        "                    path = DATA_DIR + patient + '/' + study + '/'  # path to this study\n",
        "                    for j in range(len(list(listdir_nohidden(path)))):\n",
        "                        image_path = path + 'image%s.png' % (j + 1)\n",
        "                        image_data[category].loc[i] = [image_path,1, label]  # add new row\n",
        "                        i += 1\n",
        "    image_data[category].to_csv(category+\"_image_data.csv\",index = None, header=False)"
      ]
    },
    {
      "cell_type": "code",
      "execution_count": 7,
      "metadata": {
        "id": "MCl_rb3f1fRH"
      },
      "outputs": [],
      "source": [
        "def getImageLabels(dataframe):\n",
        "  '''\n",
        "  This function is to get the labels of the images from the dataframe\n",
        "  Args:\n",
        "      dataframe: pandas dataframe containing the labels of the images\n",
        "\n",
        "  '''\n",
        "  labels = []\n",
        "  for i, data in tqdm(dataframe.iterrows()):\n",
        "      labels.append(data['Label'])\n",
        "  labels = np.asarray(labels)\n",
        "  return labels"
      ]
    },
    {
      "cell_type": "code",
      "execution_count": 8,
      "metadata": {
        "id": "hHaLeecJ1pJr"
      },
      "outputs": [],
      "source": [
        "def getImage(dataframe, size):\n",
        "    '''\n",
        "    Function to process the images\n",
        "    Args:\n",
        "        dataframe: contains the path to the images in the directory\n",
        "        size: contains the value to which the shape of the image will resized\n",
        "    '''\n",
        "    Images = []\n",
        "    for i, data in tqdm(dataframe.iterrows()):\n",
        "      try:\n",
        "        image = cv2.imread(data['Path'])\n",
        "        image = cv2.resize(image,(size,size))\n",
        "        Images.append(image)\n",
        "\n",
        "      except Exception as e:\n",
        "        print(str(e))\n",
        "\n",
        "    Images = np.asarray(Images).astype('float32')\n",
        "\n",
        "    mean = np.mean(Images)\t\t\t#normalization\n",
        "    std = np.std(Images)\n",
        "    Images = (Images - mean) / std\n",
        "    return Images"
      ]
    },
    {
      "cell_type": "code",
      "execution_count": 9,
      "metadata": {
        "id": "JJlyAHvn1507"
      },
      "outputs": [],
      "source": [
        "def build_model():\n",
        "    base_model = DenseNet169(input_shape=(None, None,3),\n",
        "                             weights='imagenet',\n",
        "                             include_top=False,\n",
        "                             pooling='avg')\n",
        "\n",
        "\n",
        "    x = base_model.output\n",
        "\n",
        "    predictions = Dense(n_classes,activation='sigmoid')(x)\n",
        "    model = Model(inputs=base_model.input, outputs=predictions)\n",
        "    return model"
      ]
    },
    {
      "cell_type": "code",
      "execution_count": 10,
      "metadata": {
        "colab": {
          "base_uri": "https://localhost:8080/"
        },
        "id": "j7UHLFdt2CG0",
        "outputId": "ed59fc5e-d429-4525-81ba-dd80764cdcd2"
      },
      "outputs": [
        {
          "output_type": "stream",
          "name": "stderr",
          "text": [
            "100%|██████████| 587/587 [00:02<00:00, 208.65it/s]\n",
            "100%|██████████| 132/132 [00:00<00:00, 210.11it/s]\n"
          ]
        }
      ],
      "source": [
        "###################\n",
        "# Data processing #\n",
        "###################\n",
        "\n",
        "img_width, img_height = 224, 224\n",
        "#Keras ImageDataGenerator to load, transform the images of the dataset\n",
        "\n",
        "IMG_DATA_DIR = 'MURA-v1.1/'\n",
        "train_data_dir = IMG_DATA_DIR + 'train/XR_HUMERUS'\n",
        "valid_data_dir = IMG_DATA_DIR + 'valid/XR_HUMERUS'\n",
        "\n",
        "train_datagen = ImageDataGenerator(\n",
        "    rotation_range=30,\n",
        "    horizontal_flip=True\n",
        ")\n",
        "\n",
        "test_datagen = ImageDataGenerator(\n",
        "    rotation_range=30,\n",
        "    horizontal_flip=True\n",
        "\n",
        ")\n",
        "study_types = ['XR_HUMERUS']\n",
        "\n",
        "#TRAIN DATA\n",
        "create_images_metadata_csv('train',study_types)\n",
        "#VALID DATA\n",
        "create_images_metadata_csv('valid',study_types)"
      ]
    },
    {
      "cell_type": "code",
      "execution_count": 11,
      "metadata": {
        "id": "PfuFOz5-2H8w"
      },
      "outputs": [],
      "source": [
        "valid_image_df = pd.read_csv('valid_image_data.csv', names=['Path','Count', 'Label'])\n",
        "train_image_df = pd.read_csv('train_image_data.csv', names=['Path', 'Count','Label'])\n",
        "\n",
        "dd={}\n",
        "\n",
        "dd['train'] = train_image_df\n",
        "dd['valid'] = valid_image_df"
      ]
    },
    {
      "cell_type": "code",
      "execution_count": 12,
      "metadata": {
        "colab": {
          "base_uri": "https://localhost:8080/"
        },
        "id": "GE55aHp22NLr",
        "outputId": "82bdf608-2be7-43f6-8585-8b97a0d8deff"
      },
      "outputs": [
        {
          "output_type": "stream",
          "name": "stderr",
          "text": [
            "1272it [00:00, 22311.62it/s]\n",
            "1272it [00:07, 181.22it/s]\n"
          ]
        },
        {
          "output_type": "execute_result",
          "data": {
            "text/plain": [
              "(1272, 224, 224, 3)"
            ]
          },
          "metadata": {},
          "execution_count": 12
        }
      ],
      "source": [
        "train_image_labels = getImageLabels(train_image_df)\n",
        "train_images = getImage(train_image_df, size = 224)\n",
        "train_images.shape"
      ]
    },
    {
      "cell_type": "code",
      "execution_count": 13,
      "metadata": {
        "id": "tEiEoOS82Qte"
      },
      "outputs": [],
      "source": [
        "train_datagen.fit(train_images,augment=True)"
      ]
    },
    {
      "cell_type": "code",
      "execution_count": 14,
      "metadata": {
        "id": "_uu0cXV32l2V"
      },
      "outputs": [],
      "source": [
        "train_generator = train_datagen.flow(\n",
        "    x=train_images,\n",
        "    y=train_image_labels,\n",
        "    batch_size = 32\n",
        ")"
      ]
    },
    {
      "cell_type": "code",
      "execution_count": 15,
      "metadata": {
        "colab": {
          "base_uri": "https://localhost:8080/"
        },
        "id": "naWPyQKN3OQQ",
        "outputId": "eec625d6-38ef-4c6a-9722-425085b5f8cc"
      },
      "outputs": [
        {
          "output_type": "stream",
          "name": "stderr",
          "text": [
            "288it [00:00, 19800.67it/s]\n"
          ]
        }
      ],
      "source": [
        "valid_image_labels = getImageLabels(valid_image_df)"
      ]
    },
    {
      "cell_type": "code",
      "execution_count": 16,
      "metadata": {
        "colab": {
          "base_uri": "https://localhost:8080/"
        },
        "id": "L1TWElcP37XU",
        "outputId": "a2af75ce-1db1-4947-bb4e-594ee0c8c8b8"
      },
      "outputs": [
        {
          "output_type": "stream",
          "name": "stderr",
          "text": [
            "288it [00:01, 240.33it/s]\n"
          ]
        }
      ],
      "source": [
        "valid_images = getImage(valid_image_df, size = 224)"
      ]
    },
    {
      "cell_type": "code",
      "execution_count": 17,
      "metadata": {
        "id": "2pDRLH3B4MrI"
      },
      "outputs": [],
      "source": [
        "test_datagen.fit(valid_images,augment=True)"
      ]
    },
    {
      "cell_type": "code",
      "execution_count": 18,
      "metadata": {
        "id": "KG5kEfBA4RxC"
      },
      "outputs": [],
      "source": [
        "validation_generator = test_datagen.flow(\n",
        "    x=valid_images,\n",
        "    y=valid_image_labels,\n",
        "    batch_size = 1\n",
        ")"
      ]
    },
    {
      "cell_type": "code",
      "execution_count": 19,
      "metadata": {
        "colab": {
          "base_uri": "https://localhost:8080/"
        },
        "id": "Ao5E1Iy_4Viv",
        "outputId": "bf472248-f8b2-47f4-c974-3aab13266314"
      },
      "outputs": [
        {
          "output_type": "stream",
          "name": "stdout",
          "text": [
            "39\n"
          ]
        }
      ],
      "source": [
        "###################\n",
        "# Construct model #\n",
        "###################\n",
        "\n",
        "\n",
        "\n",
        "#model parameters for training\n",
        "#K.set_learning_phase(1)\n",
        "nb_train_samples = len(train_images)\n",
        "nb_validation_samples = len(valid_images)\n",
        "epochs = 12\n",
        "batch_size = 32\n",
        "steps_per_epoch = nb_train_samples//batch_size\n",
        "print(steps_per_epoch)\n",
        "n_classes = 1"
      ]
    },
    {
      "cell_type": "code",
      "execution_count": 20,
      "metadata": {
        "colab": {
          "base_uri": "https://localhost:8080/"
        },
        "id": "L1JotzQr4ZrN",
        "outputId": "1f808bca-6417-4a35-efe5-db9b6310c8fd"
      },
      "outputs": [
        {
          "output_type": "stream",
          "name": "stdout",
          "text": [
            "Downloading data from https://storage.googleapis.com/tensorflow/keras-applications/densenet/densenet169_weights_tf_dim_ordering_tf_kernels_notop.h5\n",
            "51879936/51877672 [==============================] - 0s 0us/step\n",
            "51888128/51877672 [==============================] - 0s 0us/step\n"
          ]
        }
      ],
      "source": [
        "#Building a model\n",
        "input_shape = (224, 224, 1)\n",
        "#model = densenet(input_shape, n_classes)\n",
        "model = build_model()\n",
        "# Build optimizer\n",
        "#opt = keras.optimizers.Adam(lr=learning_rate, beta_1=0.9, beta_2=0.999, epsilon=0.1)\n",
        "#opt = RAdam(total_steps=5000, warmup_proportion=0.1, min_lr=1e-4,name='RAdam')\n",
        "\n",
        "\n",
        "model.compile(loss=BinaryFocalLoss(gamma = 2), optimizer='adam', metrics=['acc', 'mse'])\n",
        "#model.compile(loss=BinaryFocalLoss(gamma = 2), optimizer=opt, metrics=['acc', 'mse'])"
      ]
    },
    {
      "cell_type": "code",
      "execution_count": 21,
      "metadata": {
        "id": "JNUi8X_q5VV5"
      },
      "outputs": [],
      "source": [
        "#callbacks for early stopping incase of reduced learning rate, loss unimprovement\n",
        "early_stop = EarlyStopping(monitor='val_loss', patience=8, verbose=1, min_delta=1e-4)\n",
        "reduce_lr = ReduceLROnPlateau(monitor='val_loss', factor=0.1, patience=1, verbose=1, min_lr=0.0001)\n",
        "callbacks_list = [early_stop, reduce_lr]"
      ]
    },
    {
      "cell_type": "code",
      "execution_count": 22,
      "metadata": {
        "colab": {
          "base_uri": "https://localhost:8080/"
        },
        "id": "UqkrExdj5i_U",
        "outputId": "0d30e6ca-0304-4eb8-a89f-23b9b3a8a157"
      },
      "outputs": [
        {
          "output_type": "stream",
          "name": "stdout",
          "text": [
            "Epoch 1/12\n",
            "39/39 [==============================] - 66s 936ms/step - loss: 0.2505 - acc: 0.6089 - mse: 0.2425 - val_loss: 3.7182 - val_acc: 0.5556 - val_mse: 0.3857 - lr: 0.0010\n",
            "Epoch 2/12\n",
            "39/39 [==============================] - 27s 694ms/step - loss: 0.1437 - acc: 0.7226 - mse: 0.2014 - val_loss: 3.4808 - val_acc: 0.3333 - val_mse: 0.6314 - lr: 0.0010\n",
            "Epoch 3/12\n",
            "39/39 [==============================] - 27s 696ms/step - loss: 0.1377 - acc: 0.7419 - mse: 0.1870 - val_loss: 0.3511 - val_acc: 0.5556 - val_mse: 0.2258 - lr: 0.0010\n",
            "Epoch 4/12\n",
            "39/39 [==============================] - 27s 704ms/step - loss: 0.1244 - acc: 0.7839 - mse: 0.1786 - val_loss: 0.1216 - val_acc: 0.7778 - val_mse: 0.1652 - lr: 0.0010\n",
            "Epoch 5/12\n",
            "39/39 [==============================] - ETA: 0s - loss: 0.1195 - acc: 0.7855 - mse: 0.1693\n",
            "Epoch 5: ReduceLROnPlateau reducing learning rate to 0.00010000000474974513.\n",
            "39/39 [==============================] - 28s 709ms/step - loss: 0.1195 - acc: 0.7855 - mse: 0.1693 - val_loss: 0.3448 - val_acc: 0.7778 - val_mse: 0.2038 - lr: 0.0010\n",
            "Epoch 6/12\n",
            "39/39 [==============================] - 28s 714ms/step - loss: 0.1042 - acc: 0.8355 - mse: 0.1583 - val_loss: 0.0817 - val_acc: 0.8889 - val_mse: 0.1183 - lr: 1.0000e-04\n",
            "Epoch 7/12\n",
            "39/39 [==============================] - ETA: 0s - loss: 0.0962 - acc: 0.8492 - mse: 0.1471\n",
            "Epoch 7: ReduceLROnPlateau reducing learning rate to 0.0001.\n",
            "39/39 [==============================] - 28s 731ms/step - loss: 0.0962 - acc: 0.8492 - mse: 0.1471 - val_loss: 0.0819 - val_acc: 0.7778 - val_mse: 0.1309 - lr: 1.0000e-04\n",
            "Epoch 8/12\n",
            "39/39 [==============================] - 28s 729ms/step - loss: 0.0901 - acc: 0.8565 - mse: 0.1386 - val_loss: 0.2785 - val_acc: 0.6667 - val_mse: 0.2002 - lr: 1.0000e-04\n",
            "Epoch 9/12\n",
            "39/39 [==============================] - 28s 726ms/step - loss: 0.0830 - acc: 0.8726 - mse: 0.1300 - val_loss: 0.0962 - val_acc: 0.7778 - val_mse: 0.1443 - lr: 1.0000e-04\n",
            "Epoch 10/12\n",
            "39/39 [==============================] - 29s 734ms/step - loss: 0.0852 - acc: 0.8758 - mse: 0.1273 - val_loss: 0.0258 - val_acc: 1.0000 - val_mse: 0.0710 - lr: 1.0000e-04\n",
            "Epoch 11/12\n",
            "39/39 [==============================] - 29s 730ms/step - loss: 0.0799 - acc: 0.8758 - mse: 0.1220 - val_loss: 0.0845 - val_acc: 0.8889 - val_mse: 0.1319 - lr: 1.0000e-04\n",
            "Epoch 12/12\n",
            "39/39 [==============================] - 29s 735ms/step - loss: 0.0773 - acc: 0.8839 - mse: 0.1180 - val_loss: 0.1019 - val_acc: 0.8889 - val_mse: 0.1148 - lr: 1.0000e-04\n"
          ]
        }
      ],
      "source": [
        "#train the module\n",
        "model_history = model.fit(\n",
        "    train_generator,\n",
        "    epochs=epochs,\n",
        "    workers=0,\n",
        "    use_multiprocessing=False,  \n",
        "    steps_per_epoch = nb_train_samples//batch_size,\n",
        "    validation_data=validation_generator,\n",
        "    validation_steps=nb_validation_samples //batch_size,\n",
        "    callbacks=callbacks_list\n",
        "    \n",
        ")"
      ]
    },
    {
      "cell_type": "code",
      "source": [
        "model.save(\"MURA-DenseNet-v4.h5\")"
      ],
      "metadata": {
        "id": "2I8oPXR-T-f_"
      },
      "execution_count": 23,
      "outputs": []
    },
    {
      "cell_type": "code",
      "source": [
        "ev = model.evaluate(validation_generator, steps=nb_validation_samples,  workers=0, use_multiprocessing=False)\n",
        "ev[1]"
      ],
      "metadata": {
        "colab": {
          "base_uri": "https://localhost:8080/"
        },
        "id": "_f6R80G7UaQY",
        "outputId": "c2922702-3a55-4819-f863-770f03e0abd2"
      },
      "execution_count": 24,
      "outputs": [
        {
          "output_type": "stream",
          "name": "stdout",
          "text": [
            "288/288 [==============================] - 12s 39ms/step - loss: 0.1091 - acc: 0.8333 - mse: 0.1365\n"
          ]
        },
        {
          "output_type": "execute_result",
          "data": {
            "text/plain": [
              "0.8333333134651184"
            ]
          },
          "metadata": {},
          "execution_count": 24
        }
      ]
    },
    {
      "cell_type": "markdown",
      "source": [
        "### **Performance Evaluation**"
      ],
      "metadata": {
        "id": "BizRr5CsUn36"
      }
    },
    {
      "cell_type": "code",
      "source": [
        "#Now we have trained our model, we can see the metrics during the training proccess\n",
        "plt.figure(0)\n",
        "plt.plot(model_history.history['acc'],'r')\n",
        "plt.plot(model_history.history['val_acc'],'g')\n",
        "plt.xticks(np.arange(0, 12, 1))\n",
        "plt.rcParams['figure.figsize'] = (8, 6)\n",
        "plt.xlabel(\"Num of Epochs\")\n",
        "plt.ylabel(\"Accuracy\")\n",
        "plt.title(\"Training Accuracy vs Validation Accuracy\")\n",
        "plt.legend(['train','validation'])\n",
        " \n",
        "plt.figure(1)\n",
        "plt.plot(model_history.history['loss'],'r')\n",
        "plt.plot(model_history.history['val_loss'],'g')\n",
        "plt.xticks(np.arange(0, 12, 1))\n",
        "plt.rcParams['figure.figsize'] = (8, 6)\n",
        "plt.xlabel(\"Num of Epochs\")\n",
        "plt.ylabel(\"Loss\")\n",
        "plt.title(\"Training Loss vs Validation Loss\")\n",
        "plt.legend(['train','validation'])\n",
        "\n",
        "plt.figure(2)\n",
        "plt.plot(model_history.history['mse'],'r')\n",
        "plt.plot(model_history.history['val_mse'],'g')\n",
        "plt.xticks(np.arange(0, 12, 1))\n",
        "plt.rcParams['figure.figsize'] = (8, 6)\n",
        "plt.xlabel(\"Num of Epochs\")\n",
        "plt.ylabel(\"MSE\")\n",
        "plt.title(\"Training MSE vs Validation MSE\")\n",
        "plt.legend(['train','validation'])\n",
        " \n",
        "plt.show()"
      ],
      "metadata": {
        "colab": {
          "base_uri": "https://localhost:8080/",
          "height": 1000
        },
        "id": "LC4y4UgtUhpl",
        "outputId": "1246ea89-0080-482d-ef58-417270d1c525"
      },
      "execution_count": 25,
      "outputs": [
        {
          "output_type": "display_data",
          "data": {
            "text/plain": [
              "<Figure size 432x288 with 1 Axes>"
            ],
            "image/png": "[encoded data removed]"
          },
          "metadata": {
            "needs_background": "light"
          }
        },
        {
          "output_type": "display_data",
          "data": {
            "text/plain": [
              "<Figure size 576x432 with 1 Axes>"
            ],
            "image/png": "[encoded data removed]"
          },
          "metadata": {
            "needs_background": "light"
          }
        },
        {
          "output_type": "display_data",
          "data": {
            "text/plain": [
              "<Figure size 576x432 with 1 Axes>"
            ],
            "image/png": "[encoded data removed]"
          },
          "metadata": {
            "needs_background": "light"
          }
        }
      ]
    },
    {
      "cell_type": "code",
      "source": [
        "#pred = model.predict_generator(validation_generator, steps=1, batch_size=1, use_multiprocessing=False, max_queue_size=25, verbose=1)\n",
        "validation_generator.reset()\n",
        "#pred = model.predict_generator(validation_generator,steps=nb_validation_samples)\n",
        "pred_batch = model.predict_on_batch(valid_images)"
      ],
      "metadata": {
        "id": "6IHuqhAiUv2h"
      },
      "execution_count": 26,
      "outputs": []
    },
    {
      "cell_type": "code",
      "source": [
        "predictions = []\n",
        "for p in pred_batch:\n",
        "    if(p > 0.5):\n",
        "        predictions+=[1]\n",
        "    else:\n",
        "        predictions+=[0]"
      ],
      "metadata": {
        "id": "vbw-YdGRU6fI"
      },
      "execution_count": 27,
      "outputs": []
    },
    {
      "cell_type": "code",
      "source": [
        "error = np.sum(np.not_equal(predictions, valid_image_labels)) / valid_image_labels.shape[0]  \n",
        "pred = predictions"
      ],
      "metadata": {
        "id": "N0uKyP-IU-BH"
      },
      "execution_count": 28,
      "outputs": []
    },
    {
      "cell_type": "markdown",
      "source": [
        "### **Confusion Matric**"
      ],
      "metadata": {
        "id": "FGrtwgHrVEOS"
      }
    },
    {
      "cell_type": "code",
      "source": [
        "print('Confusion Matrix')\n",
        "from sklearn.metrics import confusion_matrix, classification_report, cohen_kappa_score\n",
        "import seaborn as sn\n",
        "cm = confusion_matrix( pred ,valid_image_labels)\n",
        "plt.figure(figsize = (30,20))\n",
        "sn.set(font_scale=1.4) #for label size\n",
        "sn.heatmap(cm, annot=True, annot_kws={\"size\": 20},cmap=\"YlGnBu\") # font size\n",
        "plt.show()"
      ],
      "metadata": {
        "colab": {
          "base_uri": "https://localhost:8080/",
          "height": 841
        },
        "id": "EOOVvmWaVBQm",
        "outputId": "016db89b-47d7-4293-c904-52762aac5235"
      },
      "execution_count": 29,
      "outputs": [
        {
          "output_type": "stream",
          "name": "stdout",
          "text": [
            "Confusion Matrix\n"
          ]
        },
        {
          "output_type": "display_data",
          "data": {
            "text/plain": [
              "<Figure size 2160x1440 with 2 Axes>"
            ],
            "image/png": "[encoded data removed]"
          },
          "metadata": {
            "needs_background": "light"
          }
        }
      ]
    },
    {
      "cell_type": "markdown",
      "source": [
        "### **Kappa score**"
      ],
      "metadata": {
        "id": "epELK72KVSvL"
      }
    },
    {
      "cell_type": "code",
      "source": [
        "from sklearn.metrics import confusion_matrix, classification_report, cohen_kappa_score\n",
        "cohen_kappa_score(valid_image_labels, pred)"
      ],
      "metadata": {
        "colab": {
          "base_uri": "https://localhost:8080/"
        },
        "id": "I-SFSe3vVLxM",
        "outputId": "95f2eb35-099d-4a99-e844-12c9f052768f"
      },
      "execution_count": 30,
      "outputs": [
        {
          "output_type": "execute_result",
          "data": {
            "text/plain": [
              "0.7213622291021672"
            ]
          },
          "metadata": {},
          "execution_count": 30
        }
      ]
    }
  ],
  "metadata": {
    "accelerator": "GPU",
    "colab": {
      "collapsed_sections": [],
      "name": "Bone Fracture Detection V4.ipynb",
      "provenance": []
    },
    "kernelspec": {
      "display_name": "Python 3",
      "name": "python3"
    },
    "language_info": {
      "name": "python"
    }
  },
  "nbformat": 4,
  "nbformat_minor": 0
}